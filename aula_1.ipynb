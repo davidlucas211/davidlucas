{
  "nbformat": 4,
  "nbformat_minor": 0,
  "metadata": {
    "colab": {
      "provenance": [],
      "authorship_tag": "ABX9TyN7w72eLNcwYOE8n3e4T+Rm",
      "include_colab_link": true
    },
    "kernelspec": {
      "name": "python3",
      "display_name": "Python 3"
    },
    "language_info": {
      "name": "python"
    }
  },
  "cells": [
    {
      "cell_type": "markdown",
      "metadata": {
        "id": "view-in-github",
        "colab_type": "text"
      },
      "source": [
        "<a href=\"https://colab.research.google.com/github/davidlucas211/davidlucas/blob/main/aula_1.ipynb\" target=\"_parent\"><img src=\"https://colab.research.google.com/assets/colab-badge.svg\" alt=\"Open In Colab\"/></a>"
      ]
    },
    {
      "cell_type": "code",
      "execution_count": null,
      "metadata": {
        "colab": {
          "base_uri": "https://localhost:8080/"
        },
        "id": "lxhOwNlKTuNX",
        "outputId": "186d910e-4b12-41dd-b163-d9fdc1cdc9b8"
      },
      "outputs": [
        {
          "output_type": "execute_result",
          "data": {
            "text/plain": [
              "bool"
            ]
          },
          "metadata": {},
          "execution_count": 32
        }
      ],
      "source": [
        "from re import I\n",
        "altura = 5.6\n",
        "largura = 2.5\n",
        "altura\n",
        "\n",
        "peso = 78\n",
        "altura = 1.70\n",
        "peso / altura**2\n",
        "\n",
        "imc = peso / altura**2\n",
        "imc\n",
        "\n",
        "nome = \"david\"\n",
        "\n",
        "type (altura)\n",
        "type (peso)\n",
        "type (nome)\n",
        "\n",
        "peso = 78\n",
        "altura = 1.70\n",
        "nome = \"david\"\n",
        "professor = False\n",
        "aluno = True\n",
        "type (aluno)\n",
        "type (professor)"
      ]
    },
    {
      "cell_type": "code",
      "source": [
        "altura = 5.6"
      ],
      "metadata": {
        "id": "Zbs_JSmraegw"
      },
      "execution_count": null,
      "outputs": []
    },
    {
      "cell_type": "code",
      "source": [
        "largura = 2.5"
      ],
      "metadata": {
        "id": "A9X9yhbVbvsG"
      },
      "execution_count": null,
      "outputs": []
    },
    {
      "cell_type": "code",
      "source": [
        "altura\n"
      ],
      "metadata": {
        "colab": {
          "base_uri": "https://localhost:8080/"
        },
        "id": "9-fSqZo8byLX",
        "outputId": "714a1ba6-fa4e-438f-ac34-c2580998eb80"
      },
      "execution_count": null,
      "outputs": [
        {
          "output_type": "execute_result",
          "data": {
            "text/plain": [
              "5.6"
            ]
          },
          "metadata": {},
          "execution_count": 35
        }
      ]
    },
    {
      "cell_type": "code",
      "source": [
        "peso = 78"
      ],
      "metadata": {
        "id": "CFm6Kma4b0gY"
      },
      "execution_count": null,
      "outputs": []
    },
    {
      "cell_type": "code",
      "source": [
        "altura = 1.70"
      ],
      "metadata": {
        "id": "ALAWWxuIb5ih"
      },
      "execution_count": null,
      "outputs": []
    },
    {
      "cell_type": "code",
      "source": [
        "peso / altura**2"
      ],
      "metadata": {
        "colab": {
          "base_uri": "https://localhost:8080/"
        },
        "id": "GHRbd9g1b8Tv",
        "outputId": "8dff9593-d2cb-4b52-9937-50ce8ea0a772"
      },
      "execution_count": null,
      "outputs": [
        {
          "output_type": "execute_result",
          "data": {
            "text/plain": [
              "26.989619377162633"
            ]
          },
          "metadata": {},
          "execution_count": 38
        }
      ]
    },
    {
      "cell_type": "code",
      "source": [
        "imc = peso / altura**2"
      ],
      "metadata": {
        "id": "PWuWcCKrb_H2"
      },
      "execution_count": null,
      "outputs": []
    },
    {
      "cell_type": "code",
      "source": [
        "imc"
      ],
      "metadata": {
        "colab": {
          "base_uri": "https://localhost:8080/"
        },
        "id": "exwLNq7RcB4e",
        "outputId": "bb69bed7-9332-43c3-f7b6-377ba282227e"
      },
      "execution_count": null,
      "outputs": [
        {
          "output_type": "execute_result",
          "data": {
            "text/plain": [
              "26.989619377162633"
            ]
          },
          "metadata": {},
          "execution_count": 40
        }
      ]
    },
    {
      "cell_type": "code",
      "source": [
        "nome = \"david\""
      ],
      "metadata": {
        "id": "QQyaE_yTcD-v"
      },
      "execution_count": null,
      "outputs": []
    },
    {
      "cell_type": "code",
      "source": [
        "type (altura)"
      ],
      "metadata": {
        "colab": {
          "base_uri": "https://localhost:8080/"
        },
        "id": "aA1CuSnlcFlP",
        "outputId": "e3b4cca9-dd22-4f7f-b0db-b8f30412ae2b"
      },
      "execution_count": null,
      "outputs": [
        {
          "output_type": "execute_result",
          "data": {
            "text/plain": [
              "float"
            ]
          },
          "metadata": {},
          "execution_count": 42
        }
      ]
    },
    {
      "cell_type": "code",
      "source": [
        "type (peso)"
      ],
      "metadata": {
        "colab": {
          "base_uri": "https://localhost:8080/"
        },
        "id": "wT_S6f8AcHN2",
        "outputId": "3356c067-b40e-4ba2-c6bd-ed760b399135"
      },
      "execution_count": null,
      "outputs": [
        {
          "output_type": "execute_result",
          "data": {
            "text/plain": [
              "int"
            ]
          },
          "metadata": {},
          "execution_count": 43
        }
      ]
    },
    {
      "cell_type": "code",
      "source": [
        "type (nome)"
      ],
      "metadata": {
        "colab": {
          "base_uri": "https://localhost:8080/"
        },
        "id": "SCyth2necJom",
        "outputId": "125c4306-b7b7-437d-b4fa-7e79617e8f05"
      },
      "execution_count": null,
      "outputs": [
        {
          "output_type": "execute_result",
          "data": {
            "text/plain": [
              "str"
            ]
          },
          "metadata": {},
          "execution_count": 44
        }
      ]
    },
    {
      "cell_type": "code",
      "source": [
        "peso = 78"
      ],
      "metadata": {
        "id": "Pq6OMS54cLpu"
      },
      "execution_count": null,
      "outputs": []
    },
    {
      "cell_type": "code",
      "source": [
        "altura = 1.70"
      ],
      "metadata": {
        "id": "1n9Ee0-vcP93"
      },
      "execution_count": null,
      "outputs": []
    },
    {
      "cell_type": "code",
      "source": [
        "nome = \"david\""
      ],
      "metadata": {
        "id": "hWuwQ59gcSrn"
      },
      "execution_count": null,
      "outputs": []
    },
    {
      "cell_type": "code",
      "source": [
        "professor = False"
      ],
      "metadata": {
        "id": "7y9S58oKcUo9"
      },
      "execution_count": null,
      "outputs": []
    },
    {
      "cell_type": "code",
      "source": [
        "aluno = True"
      ],
      "metadata": {
        "id": "JUqFloDVcWIw"
      },
      "execution_count": null,
      "outputs": []
    },
    {
      "cell_type": "code",
      "source": [
        "type (aluno)"
      ],
      "metadata": {
        "colab": {
          "base_uri": "https://localhost:8080/"
        },
        "id": "IKVrb0fFcXuG",
        "outputId": "f1a97a30-2deb-46cb-d97d-ef2fdbf4f8e7"
      },
      "execution_count": null,
      "outputs": [
        {
          "output_type": "execute_result",
          "data": {
            "text/plain": [
              "bool"
            ]
          },
          "metadata": {},
          "execution_count": 51
        }
      ]
    },
    {
      "cell_type": "code",
      "source": [
        "type (professor)"
      ],
      "metadata": {
        "colab": {
          "base_uri": "https://localhost:8080/"
        },
        "id": "-GopTVeOcaOX",
        "outputId": "f5a2d8fa-d67b-4f86-bc54-d2154ff87d3a"
      },
      "execution_count": null,
      "outputs": [
        {
          "output_type": "execute_result",
          "data": {
            "text/plain": [
              "bool"
            ]
          },
          "metadata": {},
          "execution_count": 52
        }
      ]
    },
    {
      "cell_type": "code",
      "source": [
        "print(nome)"
      ],
      "metadata": {
        "colab": {
          "base_uri": "https://localhost:8080/"
        },
        "id": "d-fuK1Ivc1dX",
        "outputId": "c649a4fe-b5ef-4d05-860d-0c4fdf7a4f2d"
      },
      "execution_count": null,
      "outputs": [
        {
          "output_type": "stream",
          "name": "stdout",
          "text": [
            "david\n"
          ]
        }
      ]
    },
    {
      "cell_type": "code",
      "source": [
        "2 + 3"
      ],
      "metadata": {
        "colab": {
          "base_uri": "https://localhost:8080/"
        },
        "id": "oWthYGo6dGuz",
        "outputId": "97d1fd88-93fc-43ce-b007-501e4f75a6a0"
      },
      "execution_count": null,
      "outputs": [
        {
          "output_type": "execute_result",
          "data": {
            "text/plain": [
              "5"
            ]
          },
          "metadata": {},
          "execution_count": 54
        }
      ]
    },
    {
      "cell_type": "code",
      "source": [
        "\"ab\" + \"cd\""
      ],
      "metadata": {
        "colab": {
          "base_uri": "https://localhost:8080/",
          "height": 36
        },
        "id": "bfxwzbeodMi2",
        "outputId": "c93df093-bbf9-4eab-9e1d-a259367e5ac5"
      },
      "execution_count": null,
      "outputs": [
        {
          "output_type": "execute_result",
          "data": {
            "text/plain": [
              "'abcd'"
            ],
            "application/vnd.google.colaboratory.intrinsic+json": {
              "type": "string"
            }
          },
          "metadata": {},
          "execution_count": 56
        }
      ]
    },
    {
      "cell_type": "code",
      "source": [
        "nome = \"david \"\n",
        "nome1 = \"yana\"\n",
        "nome2 = \"ama a \"\n",
        "nome + nome2 + nome1"
      ],
      "metadata": {
        "colab": {
          "base_uri": "https://localhost:8080/",
          "height": 36
        },
        "id": "VzdVoRcmdxhn",
        "outputId": "b8b32ad8-c7ca-4306-ad84-769e0ad4d1b4"
      },
      "execution_count": null,
      "outputs": [
        {
          "output_type": "execute_result",
          "data": {
            "text/plain": [
              "'david ama a yana'"
            ],
            "application/vnd.google.colaboratory.intrinsic+json": {
              "type": "string"
            }
          },
          "metadata": {},
          "execution_count": 66
        }
      ]
    },
    {
      "cell_type": "code",
      "source": [
        "\"1\" + \"1\""
      ],
      "metadata": {
        "colab": {
          "base_uri": "https://localhost:8080/",
          "height": 36
        },
        "id": "kYYkInqmeOfG",
        "outputId": "bcf0bd86-26df-4576-da4e-d7f90c3fbdef"
      },
      "execution_count": null,
      "outputs": [
        {
          "output_type": "execute_result",
          "data": {
            "text/plain": [
              "'11'"
            ],
            "application/vnd.google.colaboratory.intrinsic+json": {
              "type": "string"
            }
          },
          "metadata": {},
          "execution_count": 68
        }
      ]
    },
    {
      "cell_type": "markdown",
      "source": [
        "Questão 1"
      ],
      "metadata": {
        "id": "vuxUii3-h4vG"
      }
    },
    {
      "cell_type": "code",
      "source": [
        "# exemplo\n",
        "print(5/8)"
      ],
      "metadata": {
        "colab": {
          "base_uri": "https://localhost:8080/"
        },
        "id": "OHCC0LJ_e1Lu",
        "outputId": "94b2e15b-c97e-4898-ccf7-a318599412d6"
      },
      "execution_count": null,
      "outputs": [
        {
          "output_type": "stream",
          "name": "stdout",
          "text": [
            "0.625\n"
          ]
        }
      ]
    },
    {
      "cell_type": "markdown",
      "source": [
        "Questão 2\n"
      ],
      "metadata": {
        "id": "BCCmv6bdhiDQ"
      }
    },
    {
      "cell_type": "code",
      "source": [
        "print(7 + 8)"
      ],
      "metadata": {
        "colab": {
          "base_uri": "https://localhost:8080/"
        },
        "id": "sFu1KgnOgfeu",
        "outputId": "434e0be0-f6e7-4c87-9da9-c4c1040598fe"
      },
      "execution_count": null,
      "outputs": [
        {
          "output_type": "stream",
          "name": "stdout",
          "text": [
            "15\n"
          ]
        }
      ]
    },
    {
      "cell_type": "markdown",
      "source": [
        "Questão 3"
      ],
      "metadata": {
        "id": "1lwNvPHPh8hw"
      }
    },
    {
      "cell_type": "code",
      "source": [
        "print(5 + 3)\n",
        "print(5 - 3)"
      ],
      "metadata": {
        "colab": {
          "base_uri": "https://localhost:8080/"
        },
        "id": "KV2y234IhI4Q",
        "outputId": "fbbae61d-7a4b-4842-f74c-fb3a4d4b6fab"
      },
      "execution_count": null,
      "outputs": [
        {
          "output_type": "stream",
          "name": "stdout",
          "text": [
            "8\n",
            "2\n"
          ]
        }
      ]
    },
    {
      "cell_type": "markdown",
      "source": [
        "Questão 4"
      ],
      "metadata": {
        "id": "rdNRfPMziVii"
      }
    },
    {
      "cell_type": "code",
      "source": [
        "print(5**3)\n",
        "print(5*3)\n",
        "print(5/3)\n"
      ],
      "metadata": {
        "colab": {
          "base_uri": "https://localhost:8080/"
        },
        "id": "vVtNeQ1aiW_e",
        "outputId": "092a9c14-2eb3-41f4-f357-3d537488d39f"
      },
      "execution_count": null,
      "outputs": [
        {
          "output_type": "stream",
          "name": "stdout",
          "text": [
            "125\n",
            "15\n",
            "1.6666666666666667\n"
          ]
        }
      ]
    },
    {
      "cell_type": "markdown",
      "source": [
        "Questão 5"
      ],
      "metadata": {
        "id": "O8AjjJzJi4mD"
      }
    },
    {
      "cell_type": "code",
      "source": [
        "poupança = 100"
      ],
      "metadata": {
        "id": "Jh-sLF0o5asY"
      },
      "execution_count": null,
      "outputs": []
    },
    {
      "cell_type": "code",
      "source": [
        "multiplicador = 1.1\n"
      ],
      "metadata": {
        "id": "gSYvGC9Xkbso"
      },
      "execution_count": null,
      "outputs": []
    },
    {
      "cell_type": "code",
      "source": [
        "print(100 * 1.1**7)"
      ],
      "metadata": {
        "colab": {
          "base_uri": "https://localhost:8080/"
        },
        "id": "51CnmYOP5ivl",
        "outputId": "6cf0c173-2cca-45de-a3c9-ab0e94212bb8"
      },
      "execution_count": null,
      "outputs": [
        {
          "output_type": "stream",
          "name": "stdout",
          "text": [
            "194.87171000000012\n"
          ]
        }
      ]
    },
    {
      "cell_type": "markdown",
      "source": [
        "Questâo 6"
      ],
      "metadata": {
        "id": "8gd34kiL4i2Q"
      }
    },
    {
      "cell_type": "code",
      "source": [
        "poupança = 100\n"
      ],
      "metadata": {
        "id": "JwN6ZaB-4lTE"
      },
      "execution_count": null,
      "outputs": []
    },
    {
      "cell_type": "code",
      "source": [
        "multiplicador = 1.1\n"
      ],
      "metadata": {
        "id": "JPKwSa-m4-FV"
      },
      "execution_count": null,
      "outputs": []
    },
    {
      "cell_type": "code",
      "source": [
        "desc = \"juros simples\""
      ],
      "metadata": {
        "id": "LkhWJ0Uj5Cgo"
      },
      "execution_count": null,
      "outputs": []
    },
    {
      "cell_type": "code",
      "source": [
        "ano1 = 1.1"
      ],
      "metadata": {
        "id": "2Qie1dql5E6C"
      },
      "execution_count": null,
      "outputs": []
    },
    {
      "cell_type": "code",
      "source": [
        "print(ano1)"
      ],
      "metadata": {
        "colab": {
          "base_uri": "https://localhost:8080/"
        },
        "id": "EX3a7eCZ5IQp",
        "outputId": "6092add2-3388-4876-8595-6c6e7baed675"
      },
      "execution_count": null,
      "outputs": [
        {
          "output_type": "stream",
          "name": "stdout",
          "text": [
            "1.1\n"
          ]
        }
      ]
    },
    {
      "cell_type": "code",
      "source": [
        "print(type(ano1))"
      ],
      "metadata": {
        "colab": {
          "base_uri": "https://localhost:8080/"
        },
        "id": "DEB0Q32S5KzU",
        "outputId": "1eaf2241-d330-4b89-9e2a-e44646bb7be3"
      },
      "execution_count": null,
      "outputs": [
        {
          "output_type": "stream",
          "name": "stdout",
          "text": [
            "<class 'float'>\n"
          ]
        }
      ]
    },
    {
      "cell_type": "code",
      "source": [
        "dubledesc = desc + desc"
      ],
      "metadata": {
        "id": "RB07ioKi5NNn"
      },
      "execution_count": null,
      "outputs": []
    },
    {
      "cell_type": "code",
      "source": [
        "print(dubledesc)"
      ],
      "metadata": {
        "colab": {
          "base_uri": "https://localhost:8080/"
        },
        "id": "QWnei0BD5QOP",
        "outputId": "7aa2cc71-8f17-4202-d4da-baf0eb436e81"
      },
      "execution_count": null,
      "outputs": [
        {
          "output_type": "stream",
          "name": "stdout",
          "text": [
            "juros simplesjuros simples\n"
          ]
        }
      ]
    },
    {
      "cell_type": "markdown",
      "source": [
        "Questão 7"
      ],
      "metadata": {
        "id": "SxQPI1DZ6mH8"
      }
    },
    {
      "cell_type": "code",
      "source": [
        "pi_string = \"3.1415926\"\n"
      ],
      "metadata": {
        "id": "y2IcB3Sn6i_V"
      },
      "execution_count": null,
      "outputs": []
    },
    {
      "cell_type": "code",
      "source": [
        "pi_float = float(pi_string)\n",
        "print(type(pi_float))\n",
        "print(type(pi_string))"
      ],
      "metadata": {
        "colab": {
          "base_uri": "https://localhost:8080/"
        },
        "id": "R_m0YYHB66W_",
        "outputId": "8054ae0c-ff8e-40fd-d454-8006c218dd13"
      },
      "execution_count": null,
      "outputs": [
        {
          "output_type": "stream",
          "name": "stdout",
          "text": [
            "<class 'float'>\n",
            "<class 'str'>\n"
          ]
        }
      ]
    },
    {
      "cell_type": "markdown",
      "source": [
        "Questâo 8 (Esta errado pois falta a função str() em \"result\" e \"savings\""
      ],
      "metadata": {
        "id": "1ayerE4Z9lzD"
      }
    },
    {
      "cell_type": "code",
      "source": [
        "savings = 100\n"
      ],
      "metadata": {
        "id": "wOKR4Iyu9nty"
      },
      "execution_count": null,
      "outputs": []
    },
    {
      "cell_type": "code",
      "source": [
        "result = 100 * 1.1**7\n",
        "Print(\"i started with $\" + savings + \"and now have $\" + result + \"Awesome!\")"
      ],
      "metadata": {
        "colab": {
          "base_uri": "https://localhost:8080/",
          "height": 106
        },
        "id": "ffFtREPW9rdr",
        "outputId": "952c53af-48bd-466d-bebe-58cad34b216d"
      },
      "execution_count": null,
      "outputs": [
        {
          "output_type": "error",
          "ename": "SyntaxError",
          "evalue": "invalid syntax. Perhaps you forgot a comma? (<ipython-input-17-325680c1794f>, line 2)",
          "traceback": [
            "\u001b[0;36m  File \u001b[0;32m\"<ipython-input-17-325680c1794f>\"\u001b[0;36m, line \u001b[0;32m2\u001b[0m\n\u001b[0;31m    Print(\"i started with $\" + savings + \"and now have $\" + result \"Awesome!\")\u001b[0m\n\u001b[0m          ^\u001b[0m\n\u001b[0;31mSyntaxError\u001b[0m\u001b[0;31m:\u001b[0m invalid syntax. Perhaps you forgot a comma?\n"
          ]
        }
      ]
    },
    {
      "cell_type": "markdown",
      "source": [
        "Questão 9"
      ],
      "metadata": {
        "id": "MElVQwH8FJbv"
      }
    },
    {
      "cell_type": "code",
      "source": [
        "savings = 100\n",
        "result = 100 * 1.1**7\n",
        "print(\"I started with $\" + str(savings) + \"and now have $\" + str(result) + \"Awesom!\")"
      ],
      "metadata": {
        "id": "oj3Bhb5oFL-B",
        "colab": {
          "base_uri": "https://localhost:8080/"
        },
        "outputId": "9757d6a7-3797-4518-cde3-f352e18a7426"
      },
      "execution_count": null,
      "outputs": [
        {
          "output_type": "stream",
          "name": "stdout",
          "text": [
            "I started with $100and now have $194.87171000000012Awesom!\n"
          ]
        }
      ]
    },
    {
      "cell_type": "markdown",
      "source": [
        "Questão 10 Alternativa C, pois string com textos inteiros está errado"
      ],
      "metadata": {
        "id": "nbLL9Os-4dcU"
      }
    },
    {
      "cell_type": "code",
      "source": [],
      "metadata": {
        "id": "Ttczxu-34f82"
      },
      "execution_count": null,
      "outputs": []
    }
  ]
}